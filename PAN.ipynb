{
  "nbformat": 4,
  "nbformat_minor": 0,
  "metadata": {
    "colab": {
      "name": "PAN.ipynb",
      "provenance": [],
      "collapsed_sections": [],
      "authorship_tag": "ABX9TyP/RWdKtMn0ZmYW8s0OByNY",
      "include_colab_link": true
    },
    "kernelspec": {
      "name": "python3",
      "display_name": "Python 3"
    },
    "language_info": {
      "name": "python"
    }
  },
  "cells": [
    {
      "cell_type": "markdown",
      "metadata": {
        "id": "view-in-github",
        "colab_type": "text"
      },
      "source": [
        "<a href=\"https://colab.research.google.com/github/steviemac180/DSMC/blob/main/PAN.ipynb\" target=\"_parent\"><img src=\"https://colab.research.google.com/assets/colab-badge.svg\" alt=\"Open In Colab\"/></a>"
      ]
    },
    {
      "cell_type": "markdown",
      "metadata": {
        "id": "NXN_aajUvgRd"
      },
      "source": [
        "Import libraries needed for the analysis"
      ]
    },
    {
      "cell_type": "code",
      "metadata": {
        "id": "7WEHnW0vn-VW"
      },
      "source": [
        "# compares the structural similarity between images\n",
        "from skimage.metrics import structural_similarity"
      ],
      "execution_count": 1,
      "outputs": []
    }
  ]
}